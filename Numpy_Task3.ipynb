{
 "cells": [
  {
   "cell_type": "markdown",
   "metadata": {},
   "source": [
    "# Election Results\n",
    "\n",
    "You’re part of an impartial research group that conducts phone surveys prior to local elections. During this election season, the group conducted a survey to determine how many people would vote for I_Khan vs. S_Sharif in the presidential election.\n",
    "\n",
    "Now that the election has occurred, your group wants to compare the survey responses to the actual results.\n",
    "\n",
    "Was your survey a good indicator? Let’s find out!"
   ]
  },
  {
   "cell_type": "markdown",
   "metadata": {},
   "source": [
    "# PROJECT STEPS"
   ]
  },
  {
   "cell_type": "markdown",
   "metadata": {},
   "source": [
    "1.First, import numpy and matplotlib."
   ]
  },
  {
   "cell_type": "code",
   "execution_count": 5,
   "metadata": {},
   "outputs": [],
   "source": [
    "#type your code here\n",
    "import numpy as np"
   ]
  },
  {
   "cell_type": "markdown",
   "metadata": {},
   "source": [
    "2.There is a list given of the different survey responses.\n",
    "\n",
    "Calculate the number of people who answered ‘I_Khan’ and save the answer to the variable total_Khan.\n",
    "\n",
    "Print the variable to the terminal to see its value."
   ]
  },
  {
   "cell_type": "code",
   "execution_count": 6,
   "metadata": {},
   "outputs": [
    {
     "data": {
      "text/plain": [
       "33"
      ]
     },
     "execution_count": 6,
     "metadata": {},
     "output_type": "execute_result"
    }
   ],
   "source": [
    "survey_responses = ['I_Khan', 'S_Sharif', 'I_Khan', 'I_Khan', 'I_Khan','S_Sharif',\n",
    "                    'S_Sharif', 'I_Khan', 'I_Khan', 'I_Khan', 'S_Sharif', 'S_Sharif',\n",
    "                    'I_Khan', 'I_Khan', 'S_Sharif', 'S_Sharif','I_Khan', 'I_Khan', \n",
    "                    'S_Sharif', 'S_Sharif', 'S_Sharif', 'S_Sharif', 'S_Sharif', 'S_Sharif', \n",
    "                    'I_Khan', 'I_Khan', 'I_Khan', 'I_Khan', 'I_Khan', 'I_Khan',\n",
    "                    'S_Sharif', 'S_Sharif', 'I_Khan', 'I_Khan', 'I_Khan', 'S_Sharif',\n",
    "                    'S_Sharif', 'I_Khan', 'I_Khan', 'S_Sharif', 'S_Sharif', 'I_Khan', \n",
    "                    'I_Khan', 'S_Sharif', 'S_Sharif', 'S_Sharif', 'S_Sharif', 'S_Sharif',\n",
    "                    'S_Sharif', 'I_Khan','S_Sharif', 'S_Sharif', 'I_Khan', 'I_Khan', \n",
    "                    'I_Khan', 'S_Sharif', 'S_Sharif', 'I_Khan', 'I_Khan', 'S_Sharif', \n",
    "                    'S_Sharif', 'I_Khan', 'I_Khan', 'S_Sharif', 'S_Sharif', 'S_Sharif', \n",
    "                    'S_Sharif', 'S_Sharif', 'S_Sharif', 'I_Khan']\n",
    "\n",
    "#\n",
    "survey_responses = np.array(survey_responses)\n",
    "votingI_khan = (survey_responses=='I_Khan')\n",
    "total_Khan = np.sum(votingI_khan)\n",
    "total_Khan"
   ]
  },
  {
   "cell_type": "markdown",
   "metadata": {},
   "source": [
    "3.Calculate the percentage of people in the survey who voted for I_Khan and save it to the variable percentage_I_Khan.\n",
    "\n",
    "Print the variable to the terminal to see its value."
   ]
  },
  {
   "cell_type": "code",
   "execution_count": 7,
   "metadata": {},
   "outputs": [
    {
     "data": {
      "text/plain": [
       "47.142857142857146"
      ]
     },
     "execution_count": 7,
     "metadata": {},
     "output_type": "execute_result"
    }
   ],
   "source": [
    "#type your code here\n",
    "total_votes = np.size(survey_responses)\n",
    "percentage_I_Khan = total_Khan *100/total_votes\n",
    "percentage_I_Khan"
   ]
  },
  {
   "cell_type": "markdown",
   "metadata": {},
   "source": [
    "4.In the real election, 54% of the 10,000 town population voted for I_Khan. Your supervisors are concerned because this is a very different outcome than what the poll predicted. They want you to determine if there is something wrong with the poll or if given the sample size, it was an entirely reasonable result.\n",
    "\n",
    "Generate a binomial distribution that takes the number of total survey responses, the actual success rate, and the size of the town’s population as its parameters. Then divide the distribution by the number of survey responses. Save your calculation to the variable possible_surveys.\n",
    "\n",
    "######### hint###########\n",
    "possible_surveys = \n",
    "np.random.binomial(total of survey responses, the actual success rate,and the size of the town’s population ) "
   ]
  },
  {
   "cell_type": "code",
   "execution_count": 8,
   "metadata": {},
   "outputs": [
    {
     "data": {
      "text/plain": [
       "array([33, 28, 32, 32, 33, 25, 37, 31, 38, 32, 28, 32, 32, 34, 29, 23, 33,\n",
       "       37, 33, 32, 31, 26, 36, 39, 27, 32, 32, 39, 32, 37, 32, 35, 32, 32,\n",
       "       31, 35, 27, 28, 28, 33, 32, 32, 28, 27, 32, 33, 33, 31, 44, 33, 38,\n",
       "       41, 31, 28, 36, 29, 33, 34, 31, 29, 31, 24, 33, 33, 39, 28, 33, 32,\n",
       "       25, 27, 28, 34, 32, 38, 26, 31, 27, 36, 36, 34, 34, 38, 29, 32, 31,\n",
       "       31, 33, 29, 40, 40, 28, 41, 32, 36, 29, 29, 30, 30, 27, 34, 33, 34,\n",
       "       31, 36, 30, 41, 36, 34, 36, 35, 33, 32, 34, 32, 26, 45, 39, 36, 35,\n",
       "       31, 28, 32, 38, 30, 25, 27, 33, 40, 34, 38, 35, 35, 26, 34, 40, 33,\n",
       "       31, 35, 39, 32, 29, 42, 35, 35, 30, 41, 33, 29, 26, 37, 32, 35, 41,\n",
       "       26, 33, 31, 38, 34, 35, 35, 33, 27, 39, 34, 32, 36, 35, 33, 31, 39,\n",
       "       39, 28, 34, 37, 34, 33, 30, 29, 37, 25, 29, 27, 38, 23, 33, 28, 43,\n",
       "       33, 36, 35, 38, 37, 38, 32, 33, 36, 23, 38, 39, 34, 32, 41, 29, 34,\n",
       "       34, 22, 34, 26, 33, 36, 32, 35, 29, 29, 33, 28, 36, 41, 24, 31, 29,\n",
       "       34, 25, 35, 34, 29, 30, 34, 34, 44, 31, 37, 34, 39, 37, 26, 28, 30,\n",
       "       36, 33, 24, 34, 23, 35, 31, 34, 36, 38, 38, 31, 32, 31, 31, 32, 37,\n",
       "       25, 33, 33, 30, 33, 33, 42, 38, 32, 34, 36, 30, 36, 34, 25, 40, 32,\n",
       "       38, 38, 37, 40, 37, 29, 37, 34, 29, 27, 36, 33, 30, 36, 30, 40, 36,\n",
       "       28, 31, 34, 39, 30, 38, 33, 23, 35, 35, 34, 36, 43, 33, 38, 27, 32,\n",
       "       36, 34, 34, 40, 26, 33, 28, 31, 30, 33, 31, 27, 35, 36, 26, 29, 26,\n",
       "       20, 37, 30, 33, 25, 35, 33, 31, 33, 37, 23, 40, 29, 24, 33, 36, 35,\n",
       "       34, 34, 30, 33, 33, 41, 32, 29, 34, 30, 38, 28, 31, 35, 43, 36, 27,\n",
       "       29, 36, 27, 36, 32, 40, 29, 29, 37, 35, 32, 24, 33, 32, 36, 30, 35,\n",
       "       31, 33, 33, 38, 32, 39, 34, 29, 34, 37, 36, 46, 33, 37, 34, 33, 34,\n",
       "       32, 34, 25, 40, 42, 36, 32, 31, 29, 30, 32, 39, 33, 39, 31, 25, 37,\n",
       "       29, 29, 31, 32, 26, 35, 29, 36, 28, 33, 32, 35, 40, 34, 28, 28, 33,\n",
       "       26, 40, 35, 24, 35, 27, 31, 32, 22, 34, 31, 29, 36, 33, 37, 38, 33,\n",
       "       40, 34, 33, 28, 36, 38, 38, 25, 28, 35, 40, 37, 28, 28, 35, 29, 23,\n",
       "       29, 23, 44, 27, 37, 36, 34, 38, 36, 30, 35, 33, 26, 30, 31, 37, 33,\n",
       "       38, 37, 29, 31, 32, 35, 29, 27, 34, 32, 29, 30, 33, 37, 29, 34, 27,\n",
       "       35, 33, 29, 31, 30, 28, 31, 32, 29, 38, 27, 33, 35, 30, 37, 27, 28,\n",
       "       26, 35, 39, 35, 28, 31, 31, 31, 37, 29, 40, 37, 25, 25, 36, 30, 30,\n",
       "       33, 29, 28, 37, 22, 28, 26, 23, 39, 45, 35, 37, 34, 30, 37, 34, 36,\n",
       "       31, 37, 44, 31, 34, 42, 26, 36, 27, 30, 30, 31, 36, 29, 28, 26, 35,\n",
       "       28, 29, 36, 31, 27, 34, 29, 42, 30, 36, 32, 27, 28, 29, 29, 50, 40,\n",
       "       38, 40, 30, 35, 37, 36, 37, 35, 31, 24, 38, 37, 34, 35, 35, 32, 30,\n",
       "       25, 33, 37, 29, 35, 30, 37, 33, 31, 29, 27, 24, 30, 35, 30, 37, 32,\n",
       "       32, 32, 39, 35, 26, 32, 37, 36, 34, 31, 35, 32, 28, 29, 32, 27, 30,\n",
       "       32, 28, 41, 33, 38, 28, 35, 36, 36, 32, 37, 33, 34, 29, 27, 25, 36,\n",
       "       33, 24, 32, 31, 32, 36, 31, 32, 26, 29, 31, 30, 25, 30, 35, 31, 35,\n",
       "       31, 31, 25, 27, 32, 35, 33, 34, 27, 31, 33, 39, 35, 31, 27, 27, 19,\n",
       "       35, 36, 30, 46, 35, 39, 32, 36, 38, 34, 25, 28, 28, 37, 35, 28, 36,\n",
       "       30, 35, 33, 39, 35, 32, 31, 29, 26, 43, 31, 31, 28, 30, 34, 25, 35,\n",
       "       33, 28, 36, 36, 37, 32, 27, 31, 35, 34, 36, 35, 28, 32, 35, 35, 32,\n",
       "       31, 29, 29, 36, 27, 30, 41, 34, 33, 31, 34, 41, 34, 30, 31, 34, 35,\n",
       "       35, 32, 37, 35, 31, 32, 32, 31, 26, 32, 31, 27, 33, 35, 33, 27, 30,\n",
       "       31, 32, 33, 31, 33, 37, 37, 36, 29, 26, 33, 28, 28, 29, 33, 32, 39,\n",
       "       34, 30, 35, 28, 35, 28, 30, 39, 28, 28, 36, 32, 30, 24, 34, 36, 30,\n",
       "       39, 32, 35, 34, 37, 37, 35, 32, 28, 31, 34, 25, 30, 38, 28, 36, 36,\n",
       "       33, 30, 36, 24, 34, 33, 41, 33, 35, 36, 38, 35, 31, 39, 30, 30, 35,\n",
       "       34, 34, 26, 24, 30, 37, 36, 27, 32, 37, 39, 37, 33, 28, 33, 41, 26,\n",
       "       35, 37, 33, 25, 33, 36, 28, 32, 33, 33, 34, 33, 23, 36, 26, 40, 38,\n",
       "       28, 35, 42, 32, 31, 28, 32, 32, 30, 30, 30, 32, 33, 37, 33, 34, 32,\n",
       "       33, 30, 33, 37, 34, 32, 35, 37, 26, 30, 32, 23, 26, 32, 31, 33, 33,\n",
       "       30, 40, 30, 32, 31, 31, 33, 32, 33, 36, 29, 41, 29, 33, 26, 38, 32,\n",
       "       36, 33, 37, 33, 30, 33, 41, 33, 32, 33, 18, 31, 36, 32, 31, 40, 30,\n",
       "       24, 30, 26, 33, 40, 34, 37, 28, 35, 31, 33, 33, 36, 26, 27, 34, 35,\n",
       "       33, 38, 32, 35, 30, 36, 33, 35, 37, 37, 28, 31, 27, 29, 34, 34, 36,\n",
       "       37, 35, 28, 30, 36, 42, 34, 40, 34, 37, 29, 37, 33, 40, 26, 38, 31,\n",
       "       31, 32, 33, 30, 33, 25, 37, 35, 37, 40, 34, 36, 35, 30])"
      ]
     },
     "execution_count": 8,
     "metadata": {},
     "output_type": "execute_result"
    }
   ],
   "source": [
    "#type your code here\n",
    "possible_surveys = np.random.binomial(total_votes, .47,1000)\n",
    "possible_surveys"
   ]
  },
  {
   "cell_type": "markdown",
   "metadata": {},
   "source": [
    "\n",
    "      #######Optional########\n",
    "5.By using matplotlib Plot a histogram of possible_surveys with a range of 0-1 and 20 bins.\n"
   ]
  },
  {
   "cell_type": "code",
   "execution_count": null,
   "metadata": {},
   "outputs": [],
   "source": []
  },
  {
   "cell_type": "markdown",
   "metadata": {},
   "source": [
    "6.As we saw, 47% of people we surveyed said they would vote for I_Khan, but 54% of people voted for I_Khan in the actual election.\n",
    "\n",
    "Calculate the percentage of surveys that could have an outcome of I_Khan receiving less than 50% of the vote and save it to the variable I_Khan_loss_surveys.\n",
    "\n",
    "Print the variable to the terminal."
   ]
  },
  {
   "cell_type": "code",
   "execution_count": null,
   "metadata": {},
   "outputs": [],
   "source": [
    "#type your code here\n",
    "\n"
   ]
  },
  {
   "cell_type": "markdown",
   "metadata": {},
   "source": [
    "7.With this current poll, about 20% of the time a survey output would predict S_Sharif winning, even if I_Khan won the actual election.\n",
    "\n",
    "Your co-worker points out that your poll would be more accurate if it had more responders.\n",
    "\n",
    "Generate another binomial distribution, but this time, see what would happen if you had instead surveyed 7,000 people. Divide the distribution by the size of the survey and save your findings to large_survey.\n"
   ]
  },
  {
   "cell_type": "code",
   "execution_count": null,
   "metadata": {},
   "outputs": [],
   "source": [
    "#type your code here\n",
    "\n"
   ]
  },
  {
   "cell_type": "markdown",
   "metadata": {},
   "source": [
    "8.Now, recalculate the percentage of surveys that would have an outcome of I_Khan losing and save it to the variable I_Khan_loss_new, and print the value to the terminal.\n",
    "\n",
    "What do we notice about this new value?\n",
    "\n",
    "What advice would you give to your supervisors about predicting results from surveys?\n"
   ]
  },
  {
   "cell_type": "code",
   "execution_count": null,
   "metadata": {},
   "outputs": [],
   "source": [
    "#type your code here\n",
    "\n"
   ]
  }
 ],
 "metadata": {
  "kernelspec": {
   "display_name": "Python 3",
   "language": "python",
   "name": "python3"
  },
  "language_info": {
   "codemirror_mode": {
    "name": "ipython",
    "version": 3
   },
   "file_extension": ".py",
   "mimetype": "text/x-python",
   "name": "python",
   "nbconvert_exporter": "python",
   "pygments_lexer": "ipython3",
   "version": "3.8.5"
  }
 },
 "nbformat": 4,
 "nbformat_minor": 2
}
